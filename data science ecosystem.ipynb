{
 "cells": [
  {
   "cell_type": "markdown",
   "id": "aa6ee344",
   "metadata": {},
   "source": [
    "# Data Science Tools and Ecosystem"
   ]
  },
  {
   "cell_type": "markdown",
   "id": "21eca9c8",
   "metadata": {},
   "source": [
    "## Author\n",
    "Mudasir Alvi"
   ]
  },
  {
   "cell_type": "markdown",
   "id": "482f3362",
   "metadata": {},
   "source": [
    "In this notebook, Data Science Tools and Ecosystem are summarized."
   ]
  },
  {
   "cell_type": "markdown",
   "id": "0075eba8",
   "metadata": {},
   "source": [
    "__objective__\n",
    "- list of popular languages for data science.\n",
    "- list of popular libraries used in python and other languages such as R and Scala.\n",
    "- Use of markdown and tables in Markdown\n",
    "- How to perform simple arithmetic operations in python\n"
   ]
  },
  {
   "cell_type": "markdown",
   "id": "d59820f6",
   "metadata": {},
   "source": [
    "###### Some of the popular languages that Data Scientists use are:\n",
    "1. Python \n",
    "2. R\n",
    "3. Java\n",
    "4. Julia\n",
    "5. C++\n",
    "6. Javascript"
   ]
  },
  {
   "cell_type": "markdown",
   "id": "5bc1181d",
   "metadata": {},
   "source": [
    "###### libraries: Libraries are a collection of functions and methods that allow you to perform many actions without writing the code.\n",
    "\n",
    "Some of the commonly used libraries used by Data Scientists include:\n",
    "\n",
    "1. Scientific libraries in python, such as Pandas and NumPy.\n",
    "2. Visualization Libraries in python, such as Matplotlib and seeborn.\n",
    "3. Machine learning and deep learning libraries such as Scikit-learn, Keras, Tensor flow and Pytorch and Apache spark.\n",
    "4. Scala libraries such Vegas and BigDL.\n",
    "5. R libraries for example, ggplot2."
   ]
  },
  {
   "cell_type": "markdown",
   "id": "fbc30880",
   "metadata": {},
   "source": [
    "|Data Science Tools|\n",
    "|---------------------------|\n",
    "|jupyter Nootbook|\n",
    "|JupyterLite|\n",
    "|Rstadio|\n"
   ]
  },
  {
   "cell_type": "markdown",
   "id": "3dd97ad5",
   "metadata": {},
   "source": [
    "### Below are a few examples of evaluating arithmetic expressions in Python"
   ]
  },
  {
   "cell_type": "code",
   "execution_count": 1,
   "id": "26d1af68",
   "metadata": {},
   "outputs": [
    {
     "data": {
      "text/plain": [
       "17"
      ]
     },
     "execution_count": 1,
     "metadata": {},
     "output_type": "execute_result"
    }
   ],
   "source": [
    "#This a simple arithmetic expression to mutiply then add integers\n",
    "(3*4)+5"
   ]
  },
  {
   "cell_type": "code",
   "execution_count": 2,
   "id": "4eec63da",
   "metadata": {},
   "outputs": [
    {
     "data": {
      "text/plain": [
       "3.3333333333333335"
      ]
     },
     "execution_count": 2,
     "metadata": {},
     "output_type": "execute_result"
    }
   ],
   "source": [
    "#This will convert 200 minutes to hours by diving by 60\n",
    "200/60"
   ]
  }
 ],
 "metadata": {
  "kernelspec": {
   "display_name": "Python 3 (ipykernel)",
   "language": "python",
   "name": "python3"
  },
  "language_info": {
   "codemirror_mode": {
    "name": "ipython",
    "version": 3
   },
   "file_extension": ".py",
   "mimetype": "text/x-python",
   "name": "python",
   "nbconvert_exporter": "python",
   "pygments_lexer": "ipython3",
   "version": "3.10.9"
  }
 },
 "nbformat": 4,
 "nbformat_minor": 5
}
